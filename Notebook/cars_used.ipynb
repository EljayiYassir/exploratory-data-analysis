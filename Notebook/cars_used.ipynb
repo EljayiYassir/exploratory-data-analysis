{
 "cells": [
  {
   "cell_type": "markdown",
   "id": "9be43337-ebdb-4761-9e7e-6259ef1e58f2",
   "metadata": {
    "tags": []
   },
   "source": [
    "***\n",
    "<h1 id=\"heading\"><center><span style=\"background-color:#5642C5; color:white ; display:fill;border-radius:5px; font-family:cursive\"> 1. Data Exploring 📊🔬</span></center><a class=\"anchor-link\" href=\"\">¶</a></h1>\n",
    "<p><center style=\"color:#159364; font-family:cursive;\">The best way to make yourself extremely valuable in a team is to understand everything, but being a master of something.</center></p>\n",
    "\n",
    "***\n"
   ]
  },
  {
   "cell_type": "markdown",
   "id": "4faa4584-eb93-4d6f-8fa6-b157a2e765c5",
   "metadata": {
    "jp-MarkdownHeadingCollapsed": true,
    "tags": []
   },
   "source": [
    "<h3 id=\"heading\"><span style=\"background-color:#cefffb; color:#1b4946; display:fill;border-radius:5px; font-family:cursive\"> 👨‍💻 Description of the author </span></h3>"
   ]
  },
  {
   "cell_type": "markdown",
   "id": "1594190d-0c79-475d-b3d8-68a6f21b453a",
   "metadata": {
    "jp-MarkdownHeadingCollapsed": true,
    "tags": []
   },
   "source": [
    "* Font-Family: Georgia, Verdana, Cursive https://blog.hubspot.com/website/web-safe-html-css-fonts<br>\n",
    "* Colors Used: ['crimson', 'orange', #5642C5, #62d6cc, #50b5e7, #e7b550] https://htmlcolorcodes.com/fr/<br>\n",
    "* Emoji Used: [📚, 📌, 😃, 💬, 🎖, 📎, 🏆, 🗣, 🔭, 🌈, 💭, ⏳, 🙌🏻]"
   ]
  },
  {
   "cell_type": "markdown",
   "id": "a7e7f423-cf86-41e5-bfa4-bee64b116eef",
   "metadata": {},
   "source": [
    "<div style=\"color:white;\n",
    "           display:fill;\n",
    "           border-radius:5px;\n",
    "           background-color:#50b5e7;\n",
    "           font-size:110%;\n",
    "           font-family:Verdana;\n",
    "           letter-spacing:0.5px\">\n",
    "\n",
    "<p style=\"padding: 10px;\n",
    "              color:white;\">\n",
    "              All that is gold does not glitter,Not all those who wander are lost;The old that is strong does not wither,Deep roots are not reached by the frost.<br>fdsrge\n",
    "</p>\n",
    "</div>"
   ]
  },
  {
   "cell_type": "markdown",
   "id": "c007142c-891a-48b2-9d61-ec4b383ee674",
   "metadata": {},
   "source": [
    "<blockquote><p style=\"font-size:16px; color:#159364; font-family:verdana;\">💬 Finally, I would like to take this opportunity to remind everyone to be <code>kind</code>, <code>just</code> and <code>mindful</code>😃</p></blockquote>"
   ]
  },
  {
   "cell_type": "markdown",
   "id": "6934a743-75e8-45f4-b7cf-16b99d343a15",
   "metadata": {},
   "source": [
    "Social Media Contact:\n",
    "*  [WebPage](https://eljayiyassir.github.io/Portfolio/)\n",
    "*  [Github](https://github.com/EljayiYassir)\n",
    "*  [LinkedIn](https://www.linkedin.com/in/yassir-eljayi/)"
   ]
  },
  {
   "cell_type": "markdown",
   "id": "ca194299-aedd-4825-824d-770851268903",
   "metadata": {
    "tags": []
   },
   "source": [
    "<h3 id=\"heading\"><span style=\"background-color:#cefffb; color:#1b4946 ; display:fill;border-radius:5px; font-family:cursive\"> 📥 Import packages & data </span></h3>"
   ]
  },
  {
   "cell_type": "code",
   "execution_count": 42,
   "id": "1f1dc413-d371-4e32-9aa1-d3328b2b9877",
   "metadata": {
    "execution": {
     "iopub.execute_input": "2023-07-29T00:05:05.085328Z",
     "iopub.status.busy": "2023-07-29T00:05:05.084145Z",
     "iopub.status.idle": "2023-07-29T00:05:05.092441Z",
     "shell.execute_reply": "2023-07-29T00:05:05.090123Z",
     "shell.execute_reply.started": "2023-07-29T00:05:05.085240Z"
    },
    "tags": []
   },
   "outputs": [],
   "source": [
    "DATA_PATH = '/home/saitama/projects portfolio/1 Exploratory Data Analysis EDA/Dataset/Airline_review.csv' \n",
    "# https://www.kaggle.com/datasets/juhibhojani/airline-reviews"
   ]
  },
  {
   "cell_type": "code",
   "execution_count": 2,
   "id": "cea6e3b3-1bb7-45ff-acd0-ba468cc159a8",
   "metadata": {
    "execution": {
     "iopub.execute_input": "2023-07-28T23:23:57.655766Z",
     "iopub.status.busy": "2023-07-28T23:23:57.655037Z",
     "iopub.status.idle": "2023-07-28T23:23:59.006645Z",
     "shell.execute_reply": "2023-07-28T23:23:59.005307Z",
     "shell.execute_reply.started": "2023-07-28T23:23:57.655694Z"
    },
    "tags": []
   },
   "outputs": [],
   "source": [
    "import pandas as pd\n",
    "import numpy as np\n",
    "# The below options is useful for displaying multiple line \n",
    "pd.options.display.max_rows = None"
   ]
  },
  {
   "cell_type": "code",
   "execution_count": 3,
   "id": "7fd1bbef-4e7f-4482-b80f-a1159d75e882",
   "metadata": {
    "execution": {
     "iopub.execute_input": "2023-07-28T23:23:59.012434Z",
     "iopub.status.busy": "2023-07-28T23:23:59.011085Z",
     "iopub.status.idle": "2023-07-28T23:23:59.592785Z",
     "shell.execute_reply": "2023-07-28T23:23:59.590499Z",
     "shell.execute_reply.started": "2023-07-28T23:23:59.012347Z"
    },
    "tags": []
   },
   "outputs": [],
   "source": [
    "raw_df = pd.read_csv(DATA_PATH)"
   ]
  },
  {
   "cell_type": "markdown",
   "id": "ead87e31-f434-40ee-8e5d-a0e654a49be2",
   "metadata": {
    "tags": []
   },
   "source": [
    "<h3 id=\"heading\"><span style=\"background-color:#cefffb; color:#1b4946 ; display:fill;border-radius:5px; font-family:cursive\"> 🔬 Explore Overall data </span></h3>"
   ]
  },
  {
   "cell_type": "code",
   "execution_count": 4,
   "id": "aa4f0a30-766b-4d86-9a74-fb741b9d14f5",
   "metadata": {
    "execution": {
     "iopub.execute_input": "2023-07-28T23:23:59.597456Z",
     "iopub.status.busy": "2023-07-28T23:23:59.595653Z",
     "iopub.status.idle": "2023-07-28T23:23:59.636458Z",
     "shell.execute_reply": "2023-07-28T23:23:59.634043Z",
     "shell.execute_reply.started": "2023-07-28T23:23:59.597328Z"
    },
    "tags": []
   },
   "outputs": [
    {
     "data": {
      "text/plain": [
       "(23171, 20)"
      ]
     },
     "execution_count": 4,
     "metadata": {},
     "output_type": "execute_result"
    }
   ],
   "source": [
    "# What is the shape of the data\n",
    "raw_df.shape"
   ]
  },
  {
   "cell_type": "code",
   "execution_count": 5,
   "id": "56eef2a5-1ec5-42db-ae60-f99ce8f40c16",
   "metadata": {
    "execution": {
     "iopub.execute_input": "2023-07-28T23:23:59.641857Z",
     "iopub.status.busy": "2023-07-28T23:23:59.641000Z",
     "iopub.status.idle": "2023-07-28T23:23:59.715742Z",
     "shell.execute_reply": "2023-07-28T23:23:59.712277Z",
     "shell.execute_reply.started": "2023-07-28T23:23:59.641787Z"
    },
    "tags": []
   },
   "outputs": [
    {
     "name": "stdout",
     "output_type": "stream",
     "text": [
      "<class 'pandas.core.frame.DataFrame'>\n",
      "RangeIndex: 23171 entries, 0 to 23170\n",
      "Data columns (total 20 columns):\n",
      " #   Column                  Non-Null Count  Dtype  \n",
      "---  ------                  --------------  -----  \n",
      " 0   Unnamed: 0              23171 non-null  int64  \n",
      " 1   Airline Name            23171 non-null  object \n",
      " 2   Overall_Rating          23171 non-null  object \n",
      " 3   Review_Title            23171 non-null  object \n",
      " 4   Review Date             23171 non-null  object \n",
      " 5   Verified                23171 non-null  bool   \n",
      " 6   Review                  23171 non-null  object \n",
      " 7   Aircraft                7129 non-null   object \n",
      " 8   Type Of Traveller       19433 non-null  object \n",
      " 9   Seat Type               22075 non-null  object \n",
      " 10  Route                   19343 non-null  object \n",
      " 11  Date Flown              19417 non-null  object \n",
      " 12  Seat Comfort            19016 non-null  float64\n",
      " 13  Cabin Staff Service     18911 non-null  float64\n",
      " 14  Food & Beverages        14500 non-null  float64\n",
      " 15  Ground Service          18378 non-null  float64\n",
      " 16  Inflight Entertainment  10829 non-null  float64\n",
      " 17  Wifi & Connectivity     5920 non-null   float64\n",
      " 18  Value For Money         22105 non-null  float64\n",
      " 19  Recommended             23171 non-null  object \n",
      "dtypes: bool(1), float64(7), int64(1), object(11)\n",
      "memory usage: 3.4+ MB\n"
     ]
    }
   ],
   "source": [
    "raw_df.info()"
   ]
  },
  {
   "cell_type": "markdown",
   "id": "2c267d02-f436-47ab-ab5c-e6194e52f89c",
   "metadata": {},
   "source": [
    "<span style=\"font-family:cursive;\n",
    "             color:#ff9d91\">From the info above we can see two major problems:👨‍💻</span>\n",
    "- [x] We have many missing values from different columns\n",
    "- [x] We have some columns that need to be integers or floats but insted they have object type (which mean string)"
   ]
  },
  {
   "cell_type": "markdown",
   "id": "05bb826e-cad1-40f4-998f-af6ed7fe134d",
   "metadata": {},
   "source": [
    "<div style=\"display:fill;\n",
    "           border-radius:5px;\n",
    "           background-color:#ffdbdb;;\n",
    "           font-family:Georgia;\">\n",
    "\n",
    "<p style=\"padding: 6px;\n",
    "          color:#aa0c0c;\">\n",
    "📌 Our target is related to technologie skills and jobs. So, we need to use evry columns that can help us.\n",
    "</p>\n",
    "</div>\n",
    "\n",
    "<u>**Remarque:**</u><br>\n",
    "* .sample(n) give a \"**n**\" random sample from the data set but display it as datafram table --> give us a hard readbility when we have lot of column<br>\n",
    "    - **To do so** we use .iloc[m] to display the \"**m+1**\" row in the simple and the display are in the below format <br>\n",
    "* m shoud be small then n"
   ]
  },
  {
   "cell_type": "code",
   "execution_count": 25,
   "id": "d2de386f-6946-4c46-903c-23d8a0a08cbb",
   "metadata": {
    "execution": {
     "iopub.execute_input": "2023-07-28T23:35:42.899017Z",
     "iopub.status.busy": "2023-07-28T23:35:42.896201Z",
     "iopub.status.idle": "2023-07-28T23:35:42.928904Z",
     "shell.execute_reply": "2023-07-28T23:35:42.923548Z",
     "shell.execute_reply.started": "2023-07-28T23:35:42.898737Z"
    },
    "tags": []
   },
   "outputs": [
    {
     "data": {
      "text/plain": [
       "Unnamed: 0                                                            21211\n",
       "Airline Name                                               Turkish Airlines\n",
       "Overall_Rating                                                            5\n",
       "Review_Title                               \"internet on board is a mission\"\n",
       "Review Date                                                 20th April 2023\n",
       "Verified                                                               True\n",
       "Review                      Ok flight but internet on board is a mission...\n",
       "Aircraft                                                               A330\n",
       "Type Of Traveller                                                  Business\n",
       "Seat Type                                                     Economy Class\n",
       "Route                                                    Jeddah to Istanbul\n",
       "Date Flown                                                       April 2023\n",
       "Seat Comfort                                                            2.0\n",
       "Cabin Staff Service                                                     4.0\n",
       "Food & Beverages                                                        2.0\n",
       "Ground Service                                                          3.0\n",
       "Inflight Entertainment                                                  NaN\n",
       "Wifi & Connectivity                                                     1.0\n",
       "Value For Money                                                         2.0\n",
       "Recommended                                                              no\n",
       "Name: 21211, dtype: object"
      ]
     },
     "execution_count": 25,
     "metadata": {},
     "output_type": "execute_result"
    }
   ],
   "source": [
    "raw_df.sample(1).iloc[0]"
   ]
  },
  {
   "cell_type": "code",
   "execution_count": 45,
   "id": "f8742b4d-639d-43f3-ab17-5c12f9206121",
   "metadata": {
    "execution": {
     "iopub.execute_input": "2023-07-29T00:06:46.164416Z",
     "iopub.status.busy": "2023-07-29T00:06:46.163155Z",
     "iopub.status.idle": "2023-07-29T00:06:46.218837Z",
     "shell.execute_reply": "2023-07-29T00:06:46.216165Z",
     "shell.execute_reply.started": "2023-07-29T00:06:46.164293Z"
    },
    "tags": []
   },
   "outputs": [
    {
     "data": {
      "text/html": [
       "<div>\n",
       "<style scoped>\n",
       "    .dataframe tbody tr th:only-of-type {\n",
       "        vertical-align: middle;\n",
       "    }\n",
       "\n",
       "    .dataframe tbody tr th {\n",
       "        vertical-align: top;\n",
       "    }\n",
       "\n",
       "    .dataframe thead th {\n",
       "        text-align: right;\n",
       "    }\n",
       "</style>\n",
       "<table border=\"1\" class=\"dataframe\">\n",
       "  <thead>\n",
       "    <tr style=\"text-align: right;\">\n",
       "      <th></th>\n",
       "      <th>1598</th>\n",
       "      <th>311</th>\n",
       "      <th>9182</th>\n",
       "      <th>2404</th>\n",
       "    </tr>\n",
       "  </thead>\n",
       "  <tbody>\n",
       "    <tr>\n",
       "      <th>Unnamed: 0</th>\n",
       "      <td>1598</td>\n",
       "      <td>311</td>\n",
       "      <td>9182</td>\n",
       "      <td>2404</td>\n",
       "    </tr>\n",
       "    <tr>\n",
       "      <th>Airline Name</th>\n",
       "      <td>Air Europa</td>\n",
       "      <td>Aeroflot Russian Airlines</td>\n",
       "      <td>EVA Air</td>\n",
       "      <td>Air Namibia</td>\n",
       "    </tr>\n",
       "    <tr>\n",
       "      <th>Overall_Rating</th>\n",
       "      <td>2</td>\n",
       "      <td>1</td>\n",
       "      <td>2</td>\n",
       "      <td>1</td>\n",
       "    </tr>\n",
       "    <tr>\n",
       "      <th>Review_Title</th>\n",
       "      <td>\"Disorganized check in and chaotic boarding\"</td>\n",
       "      <td>\"not provided me with a refund\"</td>\n",
       "      <td>\"one meal for a five hour flight\"</td>\n",
       "      <td>\"won’t recommend it to anyone\"</td>\n",
       "    </tr>\n",
       "    <tr>\n",
       "      <th>Review Date</th>\n",
       "      <td>29th July 2022</td>\n",
       "      <td>27th June 2021</td>\n",
       "      <td>26th April 2021</td>\n",
       "      <td>4th March 2020</td>\n",
       "    </tr>\n",
       "    <tr>\n",
       "      <th>Verified</th>\n",
       "      <td>True</td>\n",
       "      <td>False</td>\n",
       "      <td>True</td>\n",
       "      <td>True</td>\n",
       "    </tr>\n",
       "    <tr>\n",
       "      <th>Review</th>\n",
       "      <td>Chaotic / disorganized boarding. Older male m...</td>\n",
       "      <td>My flight in 2020 was cancelled by Aeroflot ...</td>\n",
       "      <td>A bad experience. I appreciate that Taiwan p...</td>\n",
       "      <td>Windhoek to Johannesburg. When checking in a...</td>\n",
       "    </tr>\n",
       "    <tr>\n",
       "      <th>Aircraft</th>\n",
       "      <td>Boeing 787</td>\n",
       "      <td>NaN</td>\n",
       "      <td>NaN</td>\n",
       "      <td>NaN</td>\n",
       "    </tr>\n",
       "    <tr>\n",
       "      <th>Type Of Traveller</th>\n",
       "      <td>Business</td>\n",
       "      <td>Couple Leisure</td>\n",
       "      <td>Solo Leisure</td>\n",
       "      <td>Couple Leisure</td>\n",
       "    </tr>\n",
       "    <tr>\n",
       "      <th>Seat Type</th>\n",
       "      <td>Business Class</td>\n",
       "      <td>Economy Class</td>\n",
       "      <td>Economy Class</td>\n",
       "      <td>Business Class</td>\n",
       "    </tr>\n",
       "    <tr>\n",
       "      <th>Route</th>\n",
       "      <td>Miami to Madrid</td>\n",
       "      <td>Manchester to Tokyo via Moscow</td>\n",
       "      <td>Taipei to Jakarta</td>\n",
       "      <td>Windhoek to Johannesburg</td>\n",
       "    </tr>\n",
       "    <tr>\n",
       "      <th>Date Flown</th>\n",
       "      <td>July 2022</td>\n",
       "      <td>July 2020</td>\n",
       "      <td>April 2021</td>\n",
       "      <td>February 2020</td>\n",
       "    </tr>\n",
       "    <tr>\n",
       "      <th>Seat Comfort</th>\n",
       "      <td>4.0</td>\n",
       "      <td>NaN</td>\n",
       "      <td>3.0</td>\n",
       "      <td>1.0</td>\n",
       "    </tr>\n",
       "    <tr>\n",
       "      <th>Cabin Staff Service</th>\n",
       "      <td>4.0</td>\n",
       "      <td>NaN</td>\n",
       "      <td>1.0</td>\n",
       "      <td>1.0</td>\n",
       "    </tr>\n",
       "    <tr>\n",
       "      <th>Food &amp; Beverages</th>\n",
       "      <td>4.0</td>\n",
       "      <td>NaN</td>\n",
       "      <td>1.0</td>\n",
       "      <td>1.0</td>\n",
       "    </tr>\n",
       "    <tr>\n",
       "      <th>Ground Service</th>\n",
       "      <td>1.0</td>\n",
       "      <td>NaN</td>\n",
       "      <td>4.0</td>\n",
       "      <td>1.0</td>\n",
       "    </tr>\n",
       "    <tr>\n",
       "      <th>Inflight Entertainment</th>\n",
       "      <td>4.0</td>\n",
       "      <td>NaN</td>\n",
       "      <td>3.0</td>\n",
       "      <td>NaN</td>\n",
       "    </tr>\n",
       "    <tr>\n",
       "      <th>Wifi &amp; Connectivity</th>\n",
       "      <td>1.0</td>\n",
       "      <td>NaN</td>\n",
       "      <td>NaN</td>\n",
       "      <td>NaN</td>\n",
       "    </tr>\n",
       "    <tr>\n",
       "      <th>Value For Money</th>\n",
       "      <td>2.0</td>\n",
       "      <td>1.0</td>\n",
       "      <td>1.0</td>\n",
       "      <td>1.0</td>\n",
       "    </tr>\n",
       "    <tr>\n",
       "      <th>Recommended</th>\n",
       "      <td>no</td>\n",
       "      <td>no</td>\n",
       "      <td>no</td>\n",
       "      <td>no</td>\n",
       "    </tr>\n",
       "  </tbody>\n",
       "</table>\n",
       "</div>"
      ],
      "text/plain": [
       "                                                                     1598  \\\n",
       "Unnamed: 0                                                           1598   \n",
       "Airline Name                                                   Air Europa   \n",
       "Overall_Rating                                                          2   \n",
       "Review_Title                 \"Disorganized check in and chaotic boarding\"   \n",
       "Review Date                                                29th July 2022   \n",
       "Verified                                                             True   \n",
       "Review                   Chaotic / disorganized boarding. Older male m...   \n",
       "Aircraft                                                       Boeing 787   \n",
       "Type Of Traveller                                                Business   \n",
       "Seat Type                                                  Business Class   \n",
       "Route                                                     Miami to Madrid   \n",
       "Date Flown                                                      July 2022   \n",
       "Seat Comfort                                                          4.0   \n",
       "Cabin Staff Service                                                   4.0   \n",
       "Food & Beverages                                                      4.0   \n",
       "Ground Service                                                        1.0   \n",
       "Inflight Entertainment                                                4.0   \n",
       "Wifi & Connectivity                                                   1.0   \n",
       "Value For Money                                                       2.0   \n",
       "Recommended                                                            no   \n",
       "\n",
       "                                                                     311   \\\n",
       "Unnamed: 0                                                            311   \n",
       "Airline Name                                    Aeroflot Russian Airlines   \n",
       "Overall_Rating                                                          1   \n",
       "Review_Title                              \"not provided me with a refund\"   \n",
       "Review Date                                                27th June 2021   \n",
       "Verified                                                            False   \n",
       "Review                    My flight in 2020 was cancelled by Aeroflot ...   \n",
       "Aircraft                                                              NaN   \n",
       "Type Of Traveller                                          Couple Leisure   \n",
       "Seat Type                                                   Economy Class   \n",
       "Route                                      Manchester to Tokyo via Moscow   \n",
       "Date Flown                                                      July 2020   \n",
       "Seat Comfort                                                          NaN   \n",
       "Cabin Staff Service                                                   NaN   \n",
       "Food & Beverages                                                      NaN   \n",
       "Ground Service                                                        NaN   \n",
       "Inflight Entertainment                                                NaN   \n",
       "Wifi & Connectivity                                                   NaN   \n",
       "Value For Money                                                       1.0   \n",
       "Recommended                                                            no   \n",
       "\n",
       "                                                                     9182  \\\n",
       "Unnamed: 0                                                           9182   \n",
       "Airline Name                                                      EVA Air   \n",
       "Overall_Rating                                                          2   \n",
       "Review_Title                            \"one meal for a five hour flight\"   \n",
       "Review Date                                               26th April 2021   \n",
       "Verified                                                             True   \n",
       "Review                    A bad experience. I appreciate that Taiwan p...   \n",
       "Aircraft                                                              NaN   \n",
       "Type Of Traveller                                            Solo Leisure   \n",
       "Seat Type                                                   Economy Class   \n",
       "Route                                                   Taipei to Jakarta   \n",
       "Date Flown                                                     April 2021   \n",
       "Seat Comfort                                                          3.0   \n",
       "Cabin Staff Service                                                   1.0   \n",
       "Food & Beverages                                                      1.0   \n",
       "Ground Service                                                        4.0   \n",
       "Inflight Entertainment                                                3.0   \n",
       "Wifi & Connectivity                                                   NaN   \n",
       "Value For Money                                                       1.0   \n",
       "Recommended                                                            no   \n",
       "\n",
       "                                                                     2404  \n",
       "Unnamed: 0                                                           2404  \n",
       "Airline Name                                                  Air Namibia  \n",
       "Overall_Rating                                                          1  \n",
       "Review_Title                               \"won’t recommend it to anyone\"  \n",
       "Review Date                                                4th March 2020  \n",
       "Verified                                                             True  \n",
       "Review                    Windhoek to Johannesburg. When checking in a...  \n",
       "Aircraft                                                              NaN  \n",
       "Type Of Traveller                                          Couple Leisure  \n",
       "Seat Type                                                  Business Class  \n",
       "Route                                            Windhoek to Johannesburg  \n",
       "Date Flown                                                  February 2020  \n",
       "Seat Comfort                                                          1.0  \n",
       "Cabin Staff Service                                                   1.0  \n",
       "Food & Beverages                                                      1.0  \n",
       "Ground Service                                                        1.0  \n",
       "Inflight Entertainment                                                NaN  \n",
       "Wifi & Connectivity                                                   NaN  \n",
       "Value For Money                                                       1.0  \n",
       "Recommended                                                            no  "
      ]
     },
     "execution_count": 45,
     "metadata": {},
     "output_type": "execute_result"
    }
   ],
   "source": [
    "raw_df.sample(4).T"
   ]
  },
  {
   "cell_type": "code",
   "execution_count": 35,
   "id": "480a45a9-49be-4215-b38c-530f928fc212",
   "metadata": {
    "execution": {
     "iopub.execute_input": "2023-07-28T23:44:03.255271Z",
     "iopub.status.busy": "2023-07-28T23:44:03.253830Z",
     "iopub.status.idle": "2023-07-28T23:44:03.270255Z",
     "shell.execute_reply": "2023-07-28T23:44:03.268534Z",
     "shell.execute_reply.started": "2023-07-28T23:44:03.255099Z"
    },
    "tags": []
   },
   "outputs": [
    {
     "data": {
      "text/plain": [
       "Index(['Unnamed: 0', 'Airline Name', 'Overall_Rating', 'Review_Title',\n",
       "       'Review Date', 'Verified', 'Review', 'Aircraft', 'Type Of Traveller',\n",
       "       'Seat Type', 'Route', 'Date Flown', 'Seat Comfort',\n",
       "       'Cabin Staff Service', 'Food & Beverages', 'Ground Service',\n",
       "       'Inflight Entertainment', 'Wifi & Connectivity', 'Value For Money',\n",
       "       'Recommended'],\n",
       "      dtype='object')"
      ]
     },
     "execution_count": 35,
     "metadata": {},
     "output_type": "execute_result"
    }
   ],
   "source": [
    "raw_df.columns"
   ]
  },
  {
   "cell_type": "code",
   "execution_count": 40,
   "id": "2e22d316-1625-4f75-bdd3-bfdaf701c515",
   "metadata": {
    "execution": {
     "iopub.execute_input": "2023-07-29T00:03:59.012617Z",
     "iopub.status.busy": "2023-07-29T00:03:59.009952Z",
     "iopub.status.idle": "2023-07-29T00:03:59.038024Z",
     "shell.execute_reply": "2023-07-29T00:03:59.035412Z",
     "shell.execute_reply.started": "2023-07-29T00:03:59.012384Z"
    },
    "tags": []
   },
   "outputs": [],
   "source": [
    "new_column_names = {'Unnamed: 0': 'index', 'Airline Name': 'Airline_Name', 'Overall_Rating': 'Overall_Rating'\n",
    "                   , 'Review_Title': 'Review_Title', 'Seat Type': 'Seat_Type', 'Verified': 'Verified'\n",
    "                   , 'Review': 'Review', 'Aircraft': 'Aircraft', 'Type Of Traveller': 'Type_Of_Traveller'\n",
    "                   , 'Seat Type': 'Seat_Type', 'Route': 'Route', 'Date Flow': 'Date_Flow'\n",
    "                   , 'Seat Comfort': 'Seat_Comfort', 'Cabin Staff Service': 'Cabin_Staff_Service', 'Food & Beverages': 'Food_Beverages'\n",
    "                   , 'Ground Service': 'Ground_Service', 'Inflight Entertainment': 'Inflight_Entertainment', 'Wifi & Connectivity': 'Wifi_Connectivity'\n",
    "                   , 'Value For Money': 'Value_For_Money', 'Recommended': 'Recommended'}\n",
    "column_without_str = ['Overall_Rating', 'Verified', 'Type Of Traveller',\n",
    "       'Seat Type', 'Seat Comfort',\n",
    "       'Cabin Staff Service', 'Food & Beverages', 'Ground Service',\n",
    "       'Inflight Entertainment', 'Wifi & Connectivity', 'Value For Money',\n",
    "       'Recommended']"
   ]
  },
  {
   "cell_type": "code",
   "execution_count": 41,
   "id": "22805c87-a3dc-425b-9c4f-6504aa618e7b",
   "metadata": {
    "execution": {
     "iopub.execute_input": "2023-07-29T00:03:59.196170Z",
     "iopub.status.busy": "2023-07-29T00:03:59.195407Z",
     "iopub.status.idle": "2023-07-29T00:03:59.220536Z",
     "shell.execute_reply": "2023-07-29T00:03:59.218270Z",
     "shell.execute_reply.started": "2023-07-29T00:03:59.196095Z"
    },
    "tags": []
   },
   "outputs": [
    {
     "name": "stdout",
     "output_type": "stream",
     "text": [
      "Overall_Rating\n",
      "\n",
      "['9', '1', '8', '2', '3', '5', '6', '7', '4', 'n']\n",
      "\n",
      "----------------------------------------------------------------------------------------------------\n",
      "Verified\n",
      "\n",
      "[True, False]\n",
      "\n",
      "----------------------------------------------------------------------------------------------------\n",
      "Type Of Traveller\n",
      "\n",
      "['Solo Leisure', 'Couple Leisure', 'Business', 'Family Leisure', nan]\n",
      "\n",
      "----------------------------------------------------------------------------------------------------\n",
      "Seat Type\n",
      "\n",
      "['Economy Class', 'Business Class', nan, 'Premium Economy', 'First Class']\n",
      "\n",
      "----------------------------------------------------------------------------------------------------\n",
      "Seat Comfort\n",
      "\n",
      "[4.0, 2.0, 1.0, 3.0, 5.0, nan, 0.0]\n",
      "\n",
      "----------------------------------------------------------------------------------------------------\n",
      "Cabin Staff Service\n",
      "\n",
      "[5.0, 2.0, 1.0, 4.0, 3.0, nan, 0.0]\n",
      "\n",
      "----------------------------------------------------------------------------------------------------\n",
      "Food & Beverages\n",
      "\n",
      "[4.0, 1.0, nan, 3.0, 2.0, 5.0, 0.0]\n",
      "\n",
      "----------------------------------------------------------------------------------------------------\n",
      "Ground Service\n",
      "\n",
      "[4.0, 1.0, 5.0, 3.0, 2.0, nan]\n",
      "\n",
      "----------------------------------------------------------------------------------------------------\n",
      "Inflight Entertainment\n",
      "\n",
      "[nan, 1.0, 4.0, 5.0, 3.0, 2.0, 0.0]\n",
      "\n",
      "----------------------------------------------------------------------------------------------------\n",
      "Wifi & Connectivity\n",
      "\n",
      "[nan, 1.0, 5.0, 3.0, 4.0, 2.0, 0.0]\n",
      "\n",
      "----------------------------------------------------------------------------------------------------\n",
      "Value For Money\n",
      "\n",
      "[3.0, 2.0, 1.0, 5.0, 4.0, nan, 0.0]\n",
      "\n",
      "----------------------------------------------------------------------------------------------------\n",
      "Recommended\n",
      "\n",
      "['yes', 'no']\n",
      "\n",
      "----------------------------------------------------------------------------------------------------\n"
     ]
    }
   ],
   "source": [
    "for column in column_without_str:\n",
    "    print(column + '\\n')\n",
    "    print(raw_df[column].unique().tolist())\n",
    "    print('\\n' + '-'*100)"
   ]
  },
  {
   "cell_type": "code",
   "execution_count": 30,
   "id": "54aaa058-2349-4251-9221-9bda697776f4",
   "metadata": {
    "execution": {
     "iopub.execute_input": "2023-07-28T23:37:44.181186Z",
     "iopub.status.busy": "2023-07-28T23:37:44.179786Z",
     "iopub.status.idle": "2023-07-28T23:37:44.189268Z",
     "shell.execute_reply": "2023-07-28T23:37:44.187912Z",
     "shell.execute_reply.started": "2023-07-28T23:37:44.181080Z"
    },
    "tags": []
   },
   "outputs": [],
   "source": [
    "COLUMNS_NEED_SPLIT = [\"Route\"]\n",
    "COLUMNS_HAVE_PROB  = [\"Overall_Rating\"]\n",
    "COLUMNS_TO_USE = COLUMNS_HAVE_PROB + COLUMNS_NEED_SPLIT\n",
    "COLUMNS_HAS_TIME = [\"Review Date \", \"Date Flown\"]"
   ]
  },
  {
   "cell_type": "code",
   "execution_count": 32,
   "id": "89e76ae9-70ae-439f-8d9b-f67bb581a63a",
   "metadata": {
    "execution": {
     "iopub.execute_input": "2023-07-28T23:37:45.256291Z",
     "iopub.status.busy": "2023-07-28T23:37:45.254795Z",
     "iopub.status.idle": "2023-07-28T23:37:45.368728Z",
     "shell.execute_reply": "2023-07-28T23:37:45.366942Z",
     "shell.execute_reply.started": "2023-07-28T23:37:45.256168Z"
    },
    "tags": []
   },
   "outputs": [
    {
     "data": {
      "text/html": [
       "<div>\n",
       "<style scoped>\n",
       "    .dataframe tbody tr th:only-of-type {\n",
       "        vertical-align: middle;\n",
       "    }\n",
       "\n",
       "    .dataframe tbody tr th {\n",
       "        vertical-align: top;\n",
       "    }\n",
       "\n",
       "    .dataframe thead th {\n",
       "        text-align: right;\n",
       "    }\n",
       "</style>\n",
       "<table border=\"1\" class=\"dataframe\">\n",
       "  <thead>\n",
       "    <tr style=\"text-align: right;\">\n",
       "      <th></th>\n",
       "      <th>Unnamed: 0</th>\n",
       "      <th>Seat Comfort</th>\n",
       "      <th>Cabin Staff Service</th>\n",
       "      <th>Food &amp; Beverages</th>\n",
       "      <th>Ground Service</th>\n",
       "      <th>Inflight Entertainment</th>\n",
       "      <th>Wifi &amp; Connectivity</th>\n",
       "      <th>Value For Money</th>\n",
       "    </tr>\n",
       "  </thead>\n",
       "  <tbody>\n",
       "    <tr>\n",
       "      <th>count</th>\n",
       "      <td>23171.00000</td>\n",
       "      <td>19016.000000</td>\n",
       "      <td>18911.000000</td>\n",
       "      <td>14500.000000</td>\n",
       "      <td>18378.000000</td>\n",
       "      <td>10829.000000</td>\n",
       "      <td>5920.000000</td>\n",
       "      <td>22105.000000</td>\n",
       "    </tr>\n",
       "    <tr>\n",
       "      <th>mean</th>\n",
       "      <td>11585.00000</td>\n",
       "      <td>2.618374</td>\n",
       "      <td>2.871609</td>\n",
       "      <td>2.553586</td>\n",
       "      <td>2.353738</td>\n",
       "      <td>2.179056</td>\n",
       "      <td>1.780405</td>\n",
       "      <td>2.451165</td>\n",
       "    </tr>\n",
       "    <tr>\n",
       "      <th>std</th>\n",
       "      <td>6689.03588</td>\n",
       "      <td>1.464840</td>\n",
       "      <td>1.604631</td>\n",
       "      <td>1.526314</td>\n",
       "      <td>1.595747</td>\n",
       "      <td>1.488839</td>\n",
       "      <td>1.318800</td>\n",
       "      <td>1.594155</td>\n",
       "    </tr>\n",
       "    <tr>\n",
       "      <th>min</th>\n",
       "      <td>0.00000</td>\n",
       "      <td>0.000000</td>\n",
       "      <td>0.000000</td>\n",
       "      <td>0.000000</td>\n",
       "      <td>1.000000</td>\n",
       "      <td>0.000000</td>\n",
       "      <td>0.000000</td>\n",
       "      <td>0.000000</td>\n",
       "    </tr>\n",
       "    <tr>\n",
       "      <th>25%</th>\n",
       "      <td>5792.50000</td>\n",
       "      <td>1.000000</td>\n",
       "      <td>1.000000</td>\n",
       "      <td>1.000000</td>\n",
       "      <td>1.000000</td>\n",
       "      <td>1.000000</td>\n",
       "      <td>1.000000</td>\n",
       "      <td>1.000000</td>\n",
       "    </tr>\n",
       "    <tr>\n",
       "      <th>50%</th>\n",
       "      <td>11585.00000</td>\n",
       "      <td>3.000000</td>\n",
       "      <td>3.000000</td>\n",
       "      <td>2.000000</td>\n",
       "      <td>1.000000</td>\n",
       "      <td>2.000000</td>\n",
       "      <td>1.000000</td>\n",
       "      <td>2.000000</td>\n",
       "    </tr>\n",
       "    <tr>\n",
       "      <th>75%</th>\n",
       "      <td>17377.50000</td>\n",
       "      <td>4.000000</td>\n",
       "      <td>4.000000</td>\n",
       "      <td>4.000000</td>\n",
       "      <td>4.000000</td>\n",
       "      <td>3.000000</td>\n",
       "      <td>2.000000</td>\n",
       "      <td>4.000000</td>\n",
       "    </tr>\n",
       "    <tr>\n",
       "      <th>max</th>\n",
       "      <td>23170.00000</td>\n",
       "      <td>5.000000</td>\n",
       "      <td>5.000000</td>\n",
       "      <td>5.000000</td>\n",
       "      <td>5.000000</td>\n",
       "      <td>5.000000</td>\n",
       "      <td>5.000000</td>\n",
       "      <td>5.000000</td>\n",
       "    </tr>\n",
       "  </tbody>\n",
       "</table>\n",
       "</div>"
      ],
      "text/plain": [
       "        Unnamed: 0  Seat Comfort  Cabin Staff Service  Food & Beverages  \\\n",
       "count  23171.00000  19016.000000         18911.000000      14500.000000   \n",
       "mean   11585.00000      2.618374             2.871609          2.553586   \n",
       "std     6689.03588      1.464840             1.604631          1.526314   \n",
       "min        0.00000      0.000000             0.000000          0.000000   \n",
       "25%     5792.50000      1.000000             1.000000          1.000000   \n",
       "50%    11585.00000      3.000000             3.000000          2.000000   \n",
       "75%    17377.50000      4.000000             4.000000          4.000000   \n",
       "max    23170.00000      5.000000             5.000000          5.000000   \n",
       "\n",
       "       Ground Service  Inflight Entertainment  Wifi & Connectivity  \\\n",
       "count    18378.000000            10829.000000          5920.000000   \n",
       "mean         2.353738                2.179056             1.780405   \n",
       "std          1.595747                1.488839             1.318800   \n",
       "min          1.000000                0.000000             0.000000   \n",
       "25%          1.000000                1.000000             1.000000   \n",
       "50%          1.000000                2.000000             1.000000   \n",
       "75%          4.000000                3.000000             2.000000   \n",
       "max          5.000000                5.000000             5.000000   \n",
       "\n",
       "       Value For Money  \n",
       "count     22105.000000  \n",
       "mean          2.451165  \n",
       "std           1.594155  \n",
       "min           0.000000  \n",
       "25%           1.000000  \n",
       "50%           2.000000  \n",
       "75%           4.000000  \n",
       "max           5.000000  "
      ]
     },
     "execution_count": 32,
     "metadata": {},
     "output_type": "execute_result"
    }
   ],
   "source": [
    "raw_df.describe()"
   ]
  },
  {
   "cell_type": "markdown",
   "id": "9361f8ef-b638-44ef-8008-f3080e7312f3",
   "metadata": {
    "tags": []
   },
   "source": [
    "<h4 id=\"heading\"><span style=\"background-color:#fcf3b9; color:#3d3710 ; display:fill;border-radius:5px; font-family:Georgia\">2. 🗄️ Columns have problem </span></h4>"
   ]
  },
  {
   "cell_type": "code",
   "execution_count": 33,
   "id": "75374778-df77-48c6-85f5-be2d4d5ae828",
   "metadata": {
    "execution": {
     "iopub.execute_input": "2023-07-28T23:37:54.109001Z",
     "iopub.status.busy": "2023-07-28T23:37:54.107599Z",
     "iopub.status.idle": "2023-07-28T23:37:54.119635Z",
     "shell.execute_reply": "2023-07-28T23:37:54.118052Z",
     "shell.execute_reply.started": "2023-07-28T23:37:54.108898Z"
    },
    "tags": []
   },
   "outputs": [
    {
     "name": "stdout",
     "output_type": "stream",
     "text": [
      "Overall_Rating\n",
      "\n",
      "['9', '1', '8', '2', '3', '5', '6', '7', '4', 'n']\n",
      "\n",
      "----------------------------------------------------------------------------------------------------\n"
     ]
    }
   ],
   "source": [
    "for column in COLUMNS_HAVE_PROB:\n",
    "    print(column + '\\n')\n",
    "    print(raw_df[column].unique().tolist())\n",
    "    print('\\n' + '-'*100)"
   ]
  },
  {
   "cell_type": "markdown",
   "id": "f3ee52da-b7b2-438f-a910-327809c6c5e6",
   "metadata": {},
   "source": [
    "<div style=\"display:fill;\n",
    "           border-radius:5px;\n",
    "           background-color:#ffdbdb;;\n",
    "           font-family:Georgia;\">\n",
    "\n",
    "<p style=\"padding: 6px;\n",
    "          color:#aa0c0c;\">\n",
    "📌 <br>We can see that the problem is there are some string in those columns that why we have an object type insted of int or float type!.\n",
    "</p>\n",
    "</div>\n",
    "\n",
    "<p style=\"padding: 6px;\n",
    "          color:#11752c;\">\n",
    "📗 <br>\n",
    "    Change the following value for each column in the \"COLUMNS_HAVE_PROB\":<br>\n",
    "    * 'Less than 1 year'<br>\n",
    "    * 'More than 50 years'<br>\n",
    "    * 'Younger than 5 years'<br>\n",
    "    * 'Older than 85'\n",
    "</p>\n"
   ]
  }
 ],
 "metadata": {
  "kernelspec": {
   "display_name": "Python 3 (ipykernel)",
   "language": "python",
   "name": "python3"
  },
  "language_info": {
   "codemirror_mode": {
    "name": "ipython",
    "version": 3
   },
   "file_extension": ".py",
   "mimetype": "text/x-python",
   "name": "python",
   "nbconvert_exporter": "python",
   "pygments_lexer": "ipython3",
   "version": "3.11.4"
  }
 },
 "nbformat": 4,
 "nbformat_minor": 5
}
